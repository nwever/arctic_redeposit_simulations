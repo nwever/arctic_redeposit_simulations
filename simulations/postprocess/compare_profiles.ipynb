{
 "cells": [
  {
   "cell_type": "code",
   "execution_count": null,
   "id": "111e0ac6-47e7-404b-bd95-ea1567f8fdd3",
   "metadata": {},
   "outputs": [],
   "source": [
    "import os\n",
    "import pandas as pd\n",
    "import matplotlib.pyplot as plt"
   ]
  },
  {
   "cell_type": "markdown",
   "id": "2a6f1dbe-cd15-4b45-b3a3-265d16d6277b",
   "metadata": {},
   "source": [
    "### Read in simulated profiles"
   ]
  },
  {
   "cell_type": "code",
   "execution_count": null,
   "id": "7f0d705c-2d2f-4ea6-8e3a-6d66e9801780",
   "metadata": {},
   "outputs": [],
   "source": [
    "datapath = \"./\"\n",
    "files = sorted([f for f in os.listdir(datapath) if f.endswith('.txt')])\n",
    "\n",
    "simulated_profiles = {}\n",
    "\n",
    "for f in files:\n",
    "    with open(os.path.join(datapath, f), 'r') as file:\n",
    "        prof_in = pd.read_csv(file,\n",
    "                              sep = ' ',\n",
    "                              skiprows = 6,\n",
    "                              names = ['height_top_(m)', 'height_bottom_(m)', 'height_mid_(m)', 'thickness_(m)', 'temperature_(K)', 'density_(kg/m^3)', 'grain_size_(mm)', 'bond_size_(mm)', 'dd_(-)', 'sp_(-)', 'gt_(swiss_code_F1F2F3)', 'theta_ice_(m^3/m^3)', 'theta_water_(m^3/m^3)', 'theta_air_(m^3/m^3)', 'age_(days)'])\n",
    "        simulated_profiles[f] = prof_in"
   ]
  },
  {
   "cell_type": "markdown",
   "id": "c2cdf703-c112-4d2b-afff-400f70355b5a",
   "metadata": {},
   "source": [
    "### Read in observed profiles"
   ]
  },
  {
   "cell_type": "code",
   "execution_count": null,
   "id": "f642b409-a3e7-4b81-a984-3a95b37ae295",
   "metadata": {},
   "outputs": [],
   "source": [
    "datapath = \"../../download/\"\n",
    "files = sorted([f for f in os.listdir(datapath) if f.endswith('.csv') and f.startswith('BylotDensity')])\n",
    "\n",
    "observed_profiles1 = {}\n",
    "observed_profiles2 = {}\n",
    "\n",
    "for f in files:\n",
    "    with open(os.path.join(datapath, f), 'r') as file:\n",
    "        prof_in = pd.read_csv(file,\n",
    "                              sep = ';',\n",
    "                              skiprows = 1,\n",
    "                              usecols=[0, 1, 2, 3],\n",
    "                              names = ['Date', 'Location', 'Height cm', 'Density kg m-3'])\n",
    "        observed_profiles1[f] = prof_in[prof_in['Location'].astype(str).str.lower() == 'tundra']\n",
    "        observed_profiles2[f] = prof_in[prof_in['Location'].astype(str).str.lower() == 'wet 0']"
   ]
  },
  {
   "cell_type": "markdown",
   "id": "cfed4f0d-b819-4984-94e3-f5d6290eea13",
   "metadata": {},
   "source": [
    "### Make plot"
   ]
  },
  {
   "cell_type": "code",
   "execution_count": null,
   "id": "9d755f36-646f-4030-800a-4c0ee60545b0",
   "metadata": {},
   "outputs": [],
   "source": [
    "years_to_plot = [2014, 2015, 2017, 2018, 2019]\n",
    "\n",
    "# Setup plot\n",
    "num_cols = 2\n",
    "num_rows = 3\n",
    "fig, axes = plt.subplots(num_rows, num_cols, figsize=(20, 20), sharey=True)\n",
    "axes = axes.flatten()\n",
    "\n",
    "# Iterate over the years\n",
    "for i, year in enumerate(years_to_plot):\n",
    "    ax = axes[i]\n",
    "\n",
    "    # Find observed profile\n",
    "    prof1 = observed_profiles1[\"BylotDensity\" + str(years_to_plot[i]) + \".csv\"]\n",
    "    ax.plot(prof1['Density kg m-3'],\n",
    "            prof1['Height cm']/100.,\n",
    "            label='measured - tundra',\n",
    "            linewidth=2,\n",
    "            color='black',\n",
    "            linestyle='-',\n",
    "            dashes=(2, 2, 4, 2)\n",
    "           )\n",
    "\n",
    "    prof2 = observed_profiles2[\"BylotDensity\" + str(years_to_plot[i]) + \".csv\"]\n",
    "    ax.plot(prof2['Density kg m-3'],\n",
    "            prof2['Height cm']/100.,\n",
    "            label='measured - wet 0',\n",
    "            linewidth=2,\n",
    "            color='black',\n",
    "            linestyle='-',\n",
    "            dashes=(4, 4, 2)\n",
    "           )\n",
    "\n",
    "    # Find corresponding simulated profiles\n",
    "    color_map = {\n",
    "        'default': '#a83232',\n",
    "        'polar': '#3298a8',\n",
    "        'redeposit': '#5932a8',\n",
    "    }\n",
    "    for f, prof in simulated_profiles.items():\n",
    "        year = int(f.split('_')[-1].split('-')[0])\n",
    "        simulation = f.split('_')[-2]\n",
    "        if year == years_to_plot[i]:\n",
    "            ax.plot(prof['density_(kg/m^3)'],\n",
    "                    prof['height_mid_(m)'],\n",
    "                    label=f'{simulation}',\n",
    "                    linewidth=2,\n",
    "                    color=color_map[simulation])\n",
    "    \n",
    "    # Set labels and titles, etc\n",
    "    ax.set_xlabel('Density (kg/m^3)')\n",
    "    ax.set_ylabel('Height (m)')\n",
    "    ax.set_title(f'Year {years_to_plot[i]}')\n",
    "    ax.grid(True)\n",
    "    ax.legend()\n",
    "    # Add a), b), c), etc\n",
    "    ax.text(0.05, 0.95, f'({chr(97+i)})', transform=ax.transAxes, fontsize=14, verticalalignment='top', horizontalalignment='right')\n",
    "\n",
    "for j in range (i+1, (num_rows * num_cols)):\n",
    "    ax = axes[j].set_axis_off()\n",
    "plt.show()"
   ]
  }
 ],
 "metadata": {
  "kernelspec": {
   "display_name": "Python 3 (ipykernel)",
   "language": "python",
   "name": "python3"
  },
  "language_info": {
   "codemirror_mode": {
    "name": "ipython",
    "version": 3
   },
   "file_extension": ".py",
   "mimetype": "text/x-python",
   "name": "python",
   "nbconvert_exporter": "python",
   "pygments_lexer": "ipython3",
   "version": "3.12.8"
  }
 },
 "nbformat": 4,
 "nbformat_minor": 5
}
